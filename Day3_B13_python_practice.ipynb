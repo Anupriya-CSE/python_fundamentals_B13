{
 "cells": [
  {
   "cell_type": "code",
   "execution_count": null,
   "metadata": {},
   "outputs": [],
   "source": [
    "Adding white spaces"
   ]
  },
  {
   "cell_type": "code",
   "execution_count": 6,
   "metadata": {},
   "outputs": [
    {
     "name": "stdout",
     "output_type": "stream",
     "text": [
      "\t\t\t\t\tPython Practice\n",
      "\n",
      "This is the prcatice notebook for Day 3 python training session taken by the trainer named Faiyaz to the students from across the world\n"
     ]
    }
   ],
   "source": [
    "#\\t ----> used for creating tab space in the sting\n",
    "#\\n ----> used for creating new line in the sting\n",
    "\n",
    "header = 'python practice'\n",
    "trainer = 'faiyaz'\n",
    "to_print = f\"This is the prcatice notebook for Day 3 python training session taken by the trainer named {trainer.title()} to the students from across the world\"\n",
    "\n",
    "#\\t used for making the sting to appear in the center of the page\n",
    "print(\"\\t\\t\\t\\t\\t\"+header.title())  \n",
    "\n",
    "#\\n used for creating a empty line between header text and the next paragraph\n",
    "print(\"\\n\"+to_print)"
   ]
  },
  {
   "cell_type": "code",
   "execution_count": null,
   "metadata": {},
   "outputs": [],
   "source": []
  },
  {
   "cell_type": "code",
   "execution_count": null,
   "metadata": {},
   "outputs": [],
   "source": [
    "Stripping of white spaces and Enhancement of the code"
   ]
  },
  {
   "cell_type": "code",
   "execution_count": 10,
   "metadata": {},
   "outputs": [
    {
     "name": "stdout",
     "output_type": "stream",
     "text": [
      "Before stripping:\n",
      "\tString 1: left\n",
      "\tString 2:right \n",
      "\tString 3: both \n",
      "\n",
      "After stripping:\n",
      "\tString 1:left\n",
      "\tString 2:right\n",
      "\tString 3:both\n"
     ]
    }
   ],
   "source": [
    "\"\"\"\n",
    "lstrip() ----> used for stripping the spaces at the left side of the string\n",
    "rstrip() ----> used for stripping the spaces at the right side of the string\n",
    "strip()  ----> used for stripping the spaces at the both side of the string, \n",
    "                as it takes more time than left / right strip \n",
    "                it is recommended to use it only when needed stripping needed on both sides\n",
    "\"\"\"\n",
    "\n",
    "string_1 = ' left'\n",
    "string_2 = 'right '\n",
    "string_3 = ' both '\n",
    "\n",
    "print(\"Before stripping:\")\n",
    "print(\"\\tString 1:\"+string_1)\n",
    "print(\"\\tString 2:\"+string_2)\n",
    "print(\"\\tString 3:\"+string_3)\n",
    "\n",
    "print(\"\\nAfter stripping:\")\n",
    "print(\"\\tString 1:\"+string_1.lstrip())  #lstrip() -> removing left spaces\n",
    "print(\"\\tString 2:\"+string_2.rstrip())  #rstirp() -> removing right spaces\n",
    "print(\"\\tString 3:\"+string_3.strip())   #strip() -> removing spaces from both sides"
   ]
  },
  {
   "cell_type": "code",
   "execution_count": null,
   "metadata": {},
   "outputs": [],
   "source": []
  },
  {
   "cell_type": "code",
   "execution_count": null,
   "metadata": {},
   "outputs": [],
   "source": [
    "Introduction to operations in numbers"
   ]
  },
  {
   "cell_type": "code",
   "execution_count": 29,
   "metadata": {},
   "outputs": [
    {
     "name": "stdout",
     "output_type": "stream",
     "text": [
      "\t\t\t\tArithmetic operations\n",
      "Value of x\t\t\t: 5\n",
      "Value of y\t\t\t: 5\n",
      "\n",
      "Addition of x and y(x+y)\t: 10\n",
      "Subtraction of x and y(x-y)\t: 0\n",
      "Multiplication of x and y(x*y)\t: 25\n",
      "Division of x and y(x/y)\t: 1.0\n",
      "Modulo of x and y(x%y)\t\t: 0\n"
     ]
    }
   ],
   "source": [
    "'''+ ---> operator for addition\n",
    "   - ---> oprator for subtraction\n",
    "   * ---> operator for multiplication\n",
    "   / ---> operator for division\n",
    "   % ---> opertaot for modulo'''\n",
    "\n",
    "x = 5\n",
    "y = 5\n",
    "\n",
    "add = x+y  #adding x and y\n",
    "sub = x-y  #subtraction y from x\n",
    "mul = x*y  #multiply x with y\n",
    "div = x/y  #dividing x by y\n",
    "mod = x%y  #taking remainder after dividing x by y\n",
    "\n",
    "print(\"\\t\\t\\t\\tArithmetic operations\")\n",
    "print(f\"Value of x\\t\\t\\t: {x}\\nValue of y\\t\\t\\t: {y}\\n\")\n",
    "print(f\"Addition of x and y(x+y)\\t: {add}\")\n",
    "print(f\"Subtraction of x and y(x-y)\\t: {sub}\")\n",
    "print(f\"Multiplication of x and y(x*y)\\t: {mul}\")\n",
    "print(f\"Division of x and y(x/y)\\t: {div}\")\n",
    "print(f\"Modulo of x and y(x%y)\\t\\t: {mod}\")"
   ]
  },
  {
   "cell_type": "code",
   "execution_count": 32,
   "metadata": {},
   "outputs": [
    {
     "name": "stdout",
     "output_type": "stream",
     "text": [
      "Square of 8\t: 64\n",
      "Cube of 4\t: 64\n"
     ]
    }
   ],
   "source": [
    "#Finding Square and Cube of a number\n",
    "square = 8**2 #x**2 ---> finding square of x \n",
    "cube = 4**3  #x**3 ---> finding cube of x\n",
    "\n",
    "print(f\"Square of 8\\t: {square}\")\n",
    "print(f\"Cube of 4\\t: {cube}\")"
   ]
  },
  {
   "cell_type": "code",
   "execution_count": 35,
   "metadata": {},
   "outputs": [
    {
     "name": "stdout",
     "output_type": "stream",
     "text": [
      "Decimal numbers addition: \n",
      "1.5 + 8.5 = 10.0\n"
     ]
    }
   ],
   "source": [
    "#Float data type (decimal numbers)\n",
    "f1 = 1.5\n",
    "f2 = 8.5\n",
    "f3 = f1+f2\n",
    "\n",
    "print(f\"Decimal numbers addition: \\n{f1} + {f2} = {f3}\")"
   ]
  },
  {
   "cell_type": "code",
   "execution_count": null,
   "metadata": {},
   "outputs": [],
   "source": []
  },
  {
   "cell_type": "code",
   "execution_count": null,
   "metadata": {},
   "outputs": [],
   "source": [
    "Finding Data type of a variable"
   ]
  },
  {
   "cell_type": "code",
   "execution_count": 38,
   "metadata": {},
   "outputs": [
    {
     "name": "stdout",
     "output_type": "stream",
     "text": [
      "Finding the Data type of a variable:\n",
      "\n",
      "text is <class 'str'> variable with value \"This is a string variable\"\n",
      "num is <class 'int'> variable with value \"100\"\n",
      "decimal is <class 'float'> variable with value \"88.8\"\n"
     ]
    }
   ],
   "source": [
    "#type(variablename) is used for finding the type of a variable\n",
    "text = \"This is a string variable\"\n",
    "num = 100\n",
    "decimal = 88.8\n",
    "\n",
    "print(\"Finding the Data type of a variable:\\n\")\n",
    "print(f\"text is {type(text)} variable with value \\\"{text}\\\"\")\n",
    "print(f\"num is {type(num)} variable with value \\\"{num}\\\"\")\n",
    "print(f\"decimal is {type(decimal)} variable with value \\\"{decimal}\\\"\")"
   ]
  },
  {
   "cell_type": "code",
   "execution_count": null,
   "metadata": {},
   "outputs": [],
   "source": []
  },
  {
   "cell_type": "code",
   "execution_count": null,
   "metadata": {},
   "outputs": [],
   "source": []
  },
  {
   "cell_type": "code",
   "execution_count": null,
   "metadata": {},
   "outputs": [],
   "source": []
  },
  {
   "cell_type": "code",
   "execution_count": null,
   "metadata": {},
   "outputs": [],
   "source": []
  },
  {
   "cell_type": "code",
   "execution_count": null,
   "metadata": {},
   "outputs": [],
   "source": []
  },
  {
   "cell_type": "code",
   "execution_count": null,
   "metadata": {},
   "outputs": [],
   "source": []
  },
  {
   "cell_type": "code",
   "execution_count": null,
   "metadata": {},
   "outputs": [],
   "source": []
  },
  {
   "cell_type": "code",
   "execution_count": null,
   "metadata": {},
   "outputs": [],
   "source": []
  },
  {
   "cell_type": "code",
   "execution_count": null,
   "metadata": {},
   "outputs": [],
   "source": []
  },
  {
   "cell_type": "code",
   "execution_count": null,
   "metadata": {},
   "outputs": [],
   "source": []
  }
 ],
 "metadata": {
  "kernelspec": {
   "display_name": "Python 3",
   "language": "python",
   "name": "python3"
  },
  "language_info": {
   "codemirror_mode": {
    "name": "ipython",
    "version": 3
   },
   "file_extension": ".py",
   "mimetype": "text/x-python",
   "name": "python",
   "nbconvert_exporter": "python",
   "pygments_lexer": "ipython3",
   "version": "3.7.4"
  }
 },
 "nbformat": 4,
 "nbformat_minor": 2
}
