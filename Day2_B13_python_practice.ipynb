{
 "cells": [
  {
   "cell_type": "code",
   "execution_count": null,
   "metadata": {},
   "outputs": [],
   "source": [
    "Variables in Python"
   ]
  },
  {
   "cell_type": "code",
   "execution_count": null,
   "metadata": {},
   "outputs": [],
   "source": [
    "#----> used for commenting to make the code look neat and understandable\n",
    "\n",
    "a = 100 #declaring variable a\n",
    "b = 200 #declaring variable b"
   ]
  },
  {
   "cell_type": "code",
   "execution_count": 6,
   "metadata": {},
   "outputs": [
    {
     "data": {
      "text/plain": [
       "300"
      ]
     },
     "execution_count": 6,
     "metadata": {},
     "output_type": "execute_result"
    }
   ],
   "source": [
    "a+b #performaing addition operation"
   ]
  },
  {
   "cell_type": "code",
   "execution_count": null,
   "metadata": {},
   "outputs": [],
   "source": []
  },
  {
   "cell_type": "code",
   "execution_count": null,
   "metadata": {},
   "outputs": [],
   "source": [
    "Rules for declaring variables"
   ]
  },
  {
   "cell_type": "code",
   "execution_count": null,
   "metadata": {},
   "outputs": [],
   "source": [
    "#below varibale names are not supproted in python (or any other language)\n",
    "\n",
    "first name = 10   #variable name should not contain any spaces\n",
    "1name = 20        #variable name should not start with number\n",
    "special@ = 30     #variable name should not contain any special characters"
   ]
  },
  {
   "cell_type": "code",
   "execution_count": null,
   "metadata": {},
   "outputs": [],
   "source": []
  },
  {
   "cell_type": "code",
   "execution_count": null,
   "metadata": {},
   "outputs": [],
   "source": [
    "Introduction to String data type"
   ]
  },
  {
   "cell_type": "code",
   "execution_count": null,
   "metadata": {},
   "outputs": [],
   "source": [
    "#String variables cna be initialized using single, double or triple quotes as below\n",
    "\n",
    "string_single = 'hello' #single quotes for initialization of string variable\n",
    "string_double = \"hello world\" #double quotes for initialization of string variable\n",
    "string_triple = \"\"\"All the best\"\"\" #triple quotes for initialization of string variable"
   ]
  },
  {
   "cell_type": "code",
   "execution_count": 12,
   "metadata": {},
   "outputs": [
    {
     "name": "stdout",
     "output_type": "stream",
     "text": [
      "Anu Priya\n",
      "ANU PRIYA\n",
      "r\n"
     ]
    }
   ],
   "source": [
    "#String methods\n",
    "\n",
    "#title() for converting the first letter of each word in the string to capital letter\n",
    "#upper() for converting the entire string to capital letter\n",
    "#lower() for converting the entire string to capital letter\n",
    "\n",
    "string_1 = 'anu priya'\n",
    "string_2 = 'R'\n",
    "\n",
    "print(string_1.title()) #first letter to upper case\n",
    "print(string_1.upper()) #full string to upper case\n",
    "print(string_2.lower()) #full string to lower case"
   ]
  },
  {
   "cell_type": "code",
   "execution_count": 14,
   "metadata": {},
   "outputs": [
    {
     "name": "stdout",
     "output_type": "stream",
     "text": [
      "1763386995952\n",
      "1763386995952\n",
      "first\n",
      "first\n",
      "1763470469104\n",
      "1763386995952\n",
      "firststring\n",
      "first\n"
     ]
    }
   ],
   "source": [
    "#String feature\n",
    "#String data type is immutable, means we cannot change the identity of the string variable\n",
    "\n",
    "text1 = 'first'  #declaring text1\n",
    "text2 = text1    #assigning text1 value to text2\n",
    "\n",
    "print(id(text1))  #printing text1 id\n",
    "print(id(text2))  #printing text2 id\n",
    "print(text1)      #printing text1 value\n",
    "print(text2)      #printing text2 value\n",
    "\n",
    "text1 += 'string'  #appending \"string\" to text1, now text1 = firststring\n",
    "\n",
    "print(id(text1))  #printing text1 id after adding \"string\" to text1\n",
    "print(id(text2))  #printing text2 id after adding \"string\" to text1\n",
    "print(text1)      #printing text1 value\n",
    "print(text2)      #printing text2 value"
   ]
  },
  {
   "cell_type": "code",
   "execution_count": null,
   "metadata": {},
   "outputs": [],
   "source": [
    "So from the above example, it is clear that when we assign text1 value to text2, the id is same.\n",
    "\n",
    "But when we append the text \"string\" to text1, \n",
    "-->the id is different it means a new instance is created for the text1\n",
    "-->the id of text2 remains same, because it is not changed"
   ]
  },
  {
   "cell_type": "code",
   "execution_count": null,
   "metadata": {},
   "outputs": [],
   "source": []
  },
  {
   "cell_type": "code",
   "execution_count": null,
   "metadata": {},
   "outputs": [],
   "source": [
    "Introduction to f strings"
   ]
  },
  {
   "cell_type": "code",
   "execution_count": 15,
   "metadata": {},
   "outputs": [
    {
     "name": "stdout",
     "output_type": "stream",
     "text": [
      "Ram is 20 years old. He has passion for coding.\n"
     ]
    }
   ],
   "source": [
    "#used for custom formatting of the text to be printed\n",
    "#special feature of python 3\n",
    "\n",
    "name = 'ram'\n",
    "age = '20'\n",
    "passion = 'coding'\n",
    "output = f'{name.title()} is {age} years old. He has passion for {passion}.'\n",
    "\n",
    "print(output)"
   ]
  },
  {
   "cell_type": "code",
   "execution_count": null,
   "metadata": {},
   "outputs": [],
   "source": []
  }
 ],
 "metadata": {
  "kernelspec": {
   "display_name": "Python 3",
   "language": "python",
   "name": "python3"
  },
  "language_info": {
   "codemirror_mode": {
    "name": "ipython",
    "version": 3
   },
   "file_extension": ".py",
   "mimetype": "text/x-python",
   "name": "python",
   "nbconvert_exporter": "python",
   "pygments_lexer": "ipython3",
   "version": "3.7.4"
  }
 },
 "nbformat": 4,
 "nbformat_minor": 2
}
