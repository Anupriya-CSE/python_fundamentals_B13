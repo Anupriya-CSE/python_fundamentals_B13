{
 "cells": [
  {
   "cell_type": "markdown",
   "metadata": {},
   "source": [
    "### Introduction to user inputs"
   ]
  },
  {
   "cell_type": "code",
   "execution_count": 4,
   "metadata": {},
   "outputs": [
    {
     "name": "stdout",
     "output_type": "stream",
     "text": [
      "Please enter your name: Anupriya\n",
      "\n",
      "\t\t\t\tWelcome Anupriya !!!\n"
     ]
    }
   ],
   "source": [
    "#accepting user input using input() method\n",
    "\n",
    "name = input(\"Please enter your name: \")\n",
    "\n",
    "print(f\"\\n\\t\\t\\t\\tWelcome {name} !!!\")"
   ]
  },
  {
   "cell_type": "markdown",
   "metadata": {},
   "source": []
  },
  {
   "cell_type": "markdown",
   "metadata": {},
   "source": [
    "### Type casting"
   ]
  },
  {
   "cell_type": "code",
   "execution_count": 6,
   "metadata": {},
   "outputs": [
    {
     "name": "stdout",
     "output_type": "stream",
     "text": [
      "Please enter your name: Anupriya\n",
      "Please enter your age: 25\n",
      "\n",
      "\t\t\tWelcome Anupriya, You are Major\n"
     ]
    }
   ],
   "source": [
    "name = input(\"Please enter your name: \")\n",
    "age = input(\"Please enter your age: \")\n",
    "age=int(age)   #converting str to int, as when we recieve input from the console it is always considered as the string\n",
    "\n",
    "if age >=18: \n",
    "    print(f\"\\n\\t\\t\\tWelcome {name}, You are Major\")\n",
    "\n",
    "else: \n",
    "    print(f\"\\n\\t\\t\\tWelcome {name}, You are Minor\")"
   ]
  },
  {
   "cell_type": "markdown",
   "metadata": {},
   "source": []
  },
  {
   "cell_type": "markdown",
   "metadata": {},
   "source": [
    "### Case study - Simple voting application"
   ]
  },
  {
   "cell_type": "code",
   "execution_count": 10,
   "metadata": {},
   "outputs": [
    {
     "name": "stdout",
     "output_type": "stream",
     "text": [
      "Please enter your name: Anupriya\n",
      "Please enter your age: 15\n",
      "\n",
      "\t\t\tWelcome Anupriya, Please try after 3 years\n"
     ]
    }
   ],
   "source": [
    "name = input(\"Please enter your name: \")\n",
    "age = input(\"Please enter your age: \")\n",
    "age=int(age)   #converting str to int, as when we recieve input from the console it is always considered as the string\n",
    "\n",
    "if age >=18: \n",
    "    print(f\"\\n\\t\\t\\tWelcome {name}, You are eligible to vote!!!\")\n",
    "\n",
    "else: \n",
    "    remaining = 18-age\n",
    "    if remaining == 1:\n",
    "        print(f\"\\n\\t\\t\\tWelcome {name}, Please try next year\")\n",
    "    else:\n",
    "        print(f\"\\n\\t\\t\\tWelcome {name}, Please try after {remaining} years\")\n",
    "    "
   ]
  },
  {
   "cell_type": "markdown",
   "metadata": {},
   "source": []
  }
 ],
 "metadata": {
  "kernelspec": {
   "display_name": "Python 3",
   "language": "python",
   "name": "python3"
  },
  "language_info": {
   "codemirror_mode": {
    "name": "ipython",
    "version": 3
   },
   "file_extension": ".py",
   "mimetype": "text/x-python",
   "name": "python",
   "nbconvert_exporter": "python",
   "pygments_lexer": "ipython3",
   "version": "3.7.4"
  }
 },
 "nbformat": 4,
 "nbformat_minor": 2
}
