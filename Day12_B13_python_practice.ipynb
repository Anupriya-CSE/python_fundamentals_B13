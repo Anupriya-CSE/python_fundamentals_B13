{
 "cells": [
  {
   "cell_type": "markdown",
   "metadata": {},
   "source": [
    "#### Introduction to return values"
   ]
  },
  {
   "cell_type": "code",
   "execution_count": 36,
   "metadata": {},
   "outputs": [],
   "source": [
    "def factorial(num):\n",
    "    \"\"\"Recursive function for finding factorial of a number\"\"\"\n",
    "    f = num\n",
    "    if f==0:\n",
    "        return 1\n",
    "    else:\n",
    "        return f * factorial(f-1)"
   ]
  },
  {
   "cell_type": "code",
   "execution_count": 4,
   "metadata": {},
   "outputs": [],
   "source": [
    "def get():\n",
    "    \"\"\"Function to get input from the user\"\"\"\n",
    "    return input(\"Please enter a number to find factorial: \")"
   ]
  },
  {
   "cell_type": "code",
   "execution_count": 44,
   "metadata": {},
   "outputs": [],
   "source": [
    "def put(fact_num,fact_value):\n",
    "    \"\"\"Function to print the output\"\"\"\n",
    "    return f'The factorial of the inputed number {fact_num} is {fact_value}'"
   ]
  },
  {
   "cell_type": "code",
   "execution_count": 46,
   "metadata": {},
   "outputs": [
    {
     "name": "stdout",
     "output_type": "stream",
     "text": [
      "Please enter a number to find factorial: 6\n"
     ]
    },
    {
     "data": {
      "text/plain": [
       "'The factorial of the inputed number 6 is 720'"
      ]
     },
     "execution_count": 46,
     "metadata": {},
     "output_type": "execute_result"
    }
   ],
   "source": [
    "#get the input from the user\n",
    "number = int(get())\n",
    "\n",
    "#finding the factorial of given number\n",
    "fact = factorial(int(number))\n",
    "\n",
    "#printing the result\n",
    "put(number,fact)\n"
   ]
  },
  {
   "cell_type": "code",
   "execution_count": null,
   "metadata": {},
   "outputs": [],
   "source": []
  },
  {
   "cell_type": "code",
   "execution_count": 50,
   "metadata": {},
   "outputs": [],
   "source": [
    "#returning a dictionary\n",
    "def return_dictionary(fruit_name,fruit_taste):\n",
    "    message = {'name':fruit_name, 'taste':fruit_taste}\n",
    "    return message\n",
    "    "
   ]
  },
  {
   "cell_type": "code",
   "execution_count": 51,
   "metadata": {},
   "outputs": [
    {
     "data": {
      "text/plain": [
       "{'name': 'mango', 'taste': 'sweet'}"
      ]
     },
     "execution_count": 51,
     "metadata": {},
     "output_type": "execute_result"
    }
   ],
   "source": [
    "return_dictionary('mango','sweet')"
   ]
  },
  {
   "cell_type": "code",
   "execution_count": null,
   "metadata": {},
   "outputs": [],
   "source": []
  },
  {
   "cell_type": "markdown",
   "metadata": {},
   "source": [
    "#### Passing a list to the function"
   ]
  },
  {
   "cell_type": "code",
   "execution_count": 71,
   "metadata": {},
   "outputs": [],
   "source": [
    "def list_print(list_users):\n",
    "    \"\"\"function for priting the contents in the list\"\"\"\n",
    "    for user in list_users:\n",
    "        print(f\"Dear {user['name']},\\n\\tThank you for purchasing the {user['product']} on our website.\\n\")"
   ]
  },
  {
   "cell_type": "code",
   "execution_count": 72,
   "metadata": {},
   "outputs": [
    {
     "name": "stdout",
     "output_type": "stream",
     "text": [
      "Dear Ram,\n",
      "\tThank you for purchasing the Bow and arrow on our website.\n",
      "\n",
      "Dear Sita,\n",
      "\tThank you for purchasing the Flowers on our website.\n",
      "\n",
      "Dear Lakshman,\n",
      "\tThank you for purchasing the Brotherhood on our website.\n",
      "\n",
      "Dear Hanuman,\n",
      "\tThank you for purchasing the Love and care on our website.\n",
      "\n",
      "Dear Ravanan,\n",
      "\tThank you for purchasing the Peace on our website.\n",
      "\n"
     ]
    }
   ],
   "source": [
    "#cretaing the list\n",
    "users = [{'name':'Ram','product':'Bow and arrow'},\n",
    "         {'name':'Sita','product':'Flowers'},\n",
    "         {'name':'Lakshman','product':'Brotherhood'},\n",
    "         {'name':'Hanuman','product':'Love and care'},\n",
    "         {'name':'Ravanan','product':'Peace'}]\n",
    "\n",
    "#passing the list to the function\n",
    "list_print(users)"
   ]
  },
  {
   "cell_type": "code",
   "execution_count": null,
   "metadata": {},
   "outputs": [],
   "source": []
  },
  {
   "cell_type": "code",
   "execution_count": 73,
   "metadata": {},
   "outputs": [],
   "source": [
    "# getting a list of elements as a parameter using *\n",
    "\n",
    "def market(*data):\n",
    "    print(data)"
   ]
  },
  {
   "cell_type": "code",
   "execution_count": 74,
   "metadata": {},
   "outputs": [
    {
     "name": "stdout",
     "output_type": "stream",
     "text": [
      "('vegetables', 'fruits', 'provisions', 'snacks')\n"
     ]
    }
   ],
   "source": [
    "market('vegetables','fruits','provisions','snacks')"
   ]
  },
  {
   "cell_type": "code",
   "execution_count": null,
   "metadata": {},
   "outputs": [],
   "source": []
  }
 ],
 "metadata": {
  "kernelspec": {
   "display_name": "Python 3",
   "language": "python",
   "name": "python3"
  },
  "language_info": {
   "codemirror_mode": {
    "name": "ipython",
    "version": 3
   },
   "file_extension": ".py",
   "mimetype": "text/x-python",
   "name": "python",
   "nbconvert_exporter": "python",
   "pygments_lexer": "ipython3",
   "version": "3.7.4"
  }
 },
 "nbformat": 4,
 "nbformat_minor": 2
}
