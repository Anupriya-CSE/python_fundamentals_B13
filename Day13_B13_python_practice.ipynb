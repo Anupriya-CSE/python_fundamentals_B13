{
 "cells": [
  {
   "cell_type": "markdown",
   "metadata": {},
   "source": [
    "### Introduction to Classes"
   ]
  },
  {
   "cell_type": "code",
   "execution_count": 6,
   "metadata": {},
   "outputs": [],
   "source": [
    "#Defining the class\n",
    "\n",
    "class Employee:\n",
    "    \"\"\"Class to define and manipulate Employee details\"\"\"\n",
    "    def get_employee_details(self):\n",
    "        self.emp_id = input(\"Enter Employee ID: \")\n",
    "        self.name = input(\"Enter your name: \")\n",
    "        self.location = input(\"Enter your location: \")\n",
    "        \n",
    "    def display_employee_details(self):\n",
    "        print(f\"Employee Details\\n\\tID\\t\\t: {self.emp_id}\\n\\tName\\t\\t: {self.name}\\n\\tLocation\\t: {self.location}\")\n",
    "        \n",
    "    def greet_employee(self):\n",
    "        print(f\"Thank you {self.name} for using our self help services.\")"
   ]
  },
  {
   "cell_type": "code",
   "execution_count": 7,
   "metadata": {},
   "outputs": [],
   "source": [
    "#Initializing the class\n",
    "\n",
    "employee1 = Employee()"
   ]
  },
  {
   "cell_type": "code",
   "execution_count": 8,
   "metadata": {},
   "outputs": [
    {
     "name": "stdout",
     "output_type": "stream",
     "text": [
      "Enter Employee ID: 1234\n",
      "Enter your name: Anu\n",
      "Enter your location: Chennai\n"
     ]
    }
   ],
   "source": [
    "#Setting the values for variables of the class via class method\n",
    "\n",
    "employee1.get_employee_details()"
   ]
  },
  {
   "cell_type": "code",
   "execution_count": 9,
   "metadata": {},
   "outputs": [
    {
     "name": "stdout",
     "output_type": "stream",
     "text": [
      "Employee Details\n",
      "\tID\t\t: 1234\n",
      "\tName\t\t: Anu\n",
      "\tLocation\t: Chennai\n"
     ]
    }
   ],
   "source": [
    "#Printing the values of variables allocated for current object\n",
    "\n",
    "employee1.display_employee_details()"
   ]
  },
  {
   "cell_type": "code",
   "execution_count": 10,
   "metadata": {},
   "outputs": [
    {
     "name": "stdout",
     "output_type": "stream",
     "text": [
      "Thank you Anu for using our self help services.\n"
     ]
    }
   ],
   "source": [
    "#Greeting the employee using another method\n",
    "\n",
    "employee1.greet_employee()"
   ]
  },
  {
   "cell_type": "code",
   "execution_count": null,
   "metadata": {},
   "outputs": [],
   "source": []
  }
 ],
 "metadata": {
  "kernelspec": {
   "display_name": "Python 3",
   "language": "python",
   "name": "python3"
  },
  "language_info": {
   "codemirror_mode": {
    "name": "ipython",
    "version": 3
   },
   "file_extension": ".py",
   "mimetype": "text/x-python",
   "name": "python",
   "nbconvert_exporter": "python",
   "pygments_lexer": "ipython3",
   "version": "3.7.4"
  }
 },
 "nbformat": 4,
 "nbformat_minor": 2
}
