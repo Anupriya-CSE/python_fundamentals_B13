{
 "cells": [
  {
   "cell_type": "markdown",
   "metadata": {},
   "source": [
    "### Introduction to file handling"
   ]
  },
  {
   "cell_type": "code",
   "execution_count": 3,
   "metadata": {},
   "outputs": [
    {
     "name": "stdout",
     "output_type": "stream",
     "text": [
      "Hello!!! \n",
      "Have a nice day\n"
     ]
    }
   ],
   "source": [
    "# reading the contents of the file\n",
    "\n",
    "with open(\"test.txt\") as test_file_object:\n",
    "    contents = test_file_object.read()\n",
    "    \n",
    "print(contents)"
   ]
  },
  {
   "cell_type": "code",
   "execution_count": 4,
   "metadata": {},
   "outputs": [
    {
     "name": "stdout",
     "output_type": "stream",
     "text": [
      "Hello!!! \n",
      "\n",
      "Have a nice day\n"
     ]
    }
   ],
   "source": [
    "# reading the contents of the file line by line\n",
    "\n",
    "filename = \"test.txt\"\n",
    "\n",
    "with open(filename) as test_file_line_object:\n",
    "    for lines in test_file_line_object:\n",
    "        print(lines)"
   ]
  },
  {
   "cell_type": "code",
   "execution_count": 5,
   "metadata": {},
   "outputs": [
    {
     "name": "stdout",
     "output_type": "stream",
     "text": [
      "This line is written using the write command\n"
     ]
    }
   ],
   "source": [
    "# writing data to the file\n",
    "\n",
    "filename = \"test.txt\"\n",
    "\n",
    "with open(filename,'w') as test_file_write_object:\n",
    "    test_file_write_object.write(\"This line is written using the write command\")\n",
    "    \n",
    "\n",
    "# printing data after writing\n",
    "\n",
    "with open(filename) as test_file_after_write:\n",
    "    contents = test_file_after_write.read()\n",
    "    \n",
    "print(contents)\n"
   ]
  },
  {
   "cell_type": "code",
   "execution_count": 6,
   "metadata": {},
   "outputs": [
    {
     "name": "stdout",
     "output_type": "stream",
     "text": [
      "This line is written using the write commandAppending data to the file\n"
     ]
    }
   ],
   "source": [
    "# appending the data to the file\n",
    "\n",
    "filename = \"test.txt\"\n",
    "\n",
    "with open(filename,'a') as test_file_append_object:\n",
    "    test_file_append_object.write(\"Appending data to the file\")\n",
    "    \n",
    "\n",
    "# printing data after writing\n",
    "\n",
    "with open(filename) as test_file_after_append:\n",
    "    contents = test_file_after_append.read()\n",
    "    \n",
    "print(contents)\n"
   ]
  },
  {
   "cell_type": "code",
   "execution_count": 7,
   "metadata": {},
   "outputs": [
    {
     "name": "stdout",
     "output_type": "stream",
     "text": [
      "This is the first line written into the file using write command.\n",
      "Hi, I am in second line of the file written using append command.\n"
     ]
    }
   ],
   "source": [
    "# Enhancement of the data while writing into the file\n",
    "\n",
    "filename = \"new.txt\"\n",
    "\n",
    "with open(filename,'w') as file_object_w:\n",
    "    file_object_w.write(\"This is the first line written into the file using write command.\")\n",
    "    \n",
    "with open(filename,'a') as file_object_a:\n",
    "    file_object_a.write(\"\\nHi, I am in second line of the file written using append command.\")\n",
    "    \n",
    "with open(filename) as file_object_r:\n",
    "    text = file_object_r.read()\n",
    "    \n",
    "print(text)"
   ]
  },
  {
   "cell_type": "code",
   "execution_count": null,
   "metadata": {},
   "outputs": [],
   "source": []
  }
 ],
 "metadata": {
  "kernelspec": {
   "display_name": "Python 3",
   "language": "python",
   "name": "python3"
  },
  "language_info": {
   "codemirror_mode": {
    "name": "ipython",
    "version": 3
   },
   "file_extension": ".py",
   "mimetype": "text/x-python",
   "name": "python",
   "nbconvert_exporter": "python",
   "pygments_lexer": "ipython3",
   "version": "3.7.4"
  }
 },
 "nbformat": 4,
 "nbformat_minor": 2
}
