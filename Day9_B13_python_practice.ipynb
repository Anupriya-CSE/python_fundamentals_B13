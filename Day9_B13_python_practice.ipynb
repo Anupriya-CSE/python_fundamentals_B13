{
 "cells": [
  {
   "cell_type": "code",
   "execution_count": 1,
   "metadata": {},
   "outputs": [
    {
     "name": "stdout",
     "output_type": "stream",
     "text": [
      "{'name': 'anu', 'gender': 'female', 'location': 'chennai'}\n"
     ]
    }
   ],
   "source": [
    "# different ways to declare dictionary data type (each pair in separate rows)\n",
    "\n",
    "student1 = {'name':'anu',\n",
    "            'gender':'female',\n",
    "            'location':'chennai'}\n",
    "\n",
    "print(student1)"
   ]
  },
  {
   "cell_type": "code",
   "execution_count": null,
   "metadata": {},
   "outputs": [],
   "source": []
  },
  {
   "cell_type": "code",
   "execution_count": 5,
   "metadata": {},
   "outputs": [
    {
     "name": "stdout",
     "output_type": "stream",
     "text": [
      "Before modification of student location detail:\n",
      "\tName:\t\tAnu\n",
      "\tGender:\t\tFemale\n",
      "\tLocation:\tTamil Nadu\n",
      "\n",
      "After modification of student location detail:\n",
      "\tName:\t\tAnu\n",
      "\tGender:\t\tFemale\n",
      "\tLocation:\tTamil Nadu\n"
     ]
    }
   ],
   "source": [
    "# modifyig the values in the dictionary data type\n",
    "\n",
    "#enhancement of printing dictionary variable using f strings\n",
    "print(f\"Before modification of student location detail:\\n\\tName:\\t\\t{student1['name'].title()}\\n\\tGender:\\t\\t{student1['gender'].title()}\\n\\tLocation:\\t{student1['location'].title()}\")\n",
    "\n",
    "student1['location'] = 'tamil nadu'\n",
    "\n",
    "print(f\"\\nAfter modification of student location detail:\\n\\tName:\\t\\t{student1['name'].title()}\\n\\tGender:\\t\\t{student1['gender'].title()}\\n\\tLocation:\\t{student1['location'].title()}\")\n",
    "      "
   ]
  },
  {
   "cell_type": "code",
   "execution_count": null,
   "metadata": {},
   "outputs": [],
   "source": []
  }
 ],
 "metadata": {
  "kernelspec": {
   "display_name": "Python 3",
   "language": "python",
   "name": "python3"
  },
  "language_info": {
   "codemirror_mode": {
    "name": "ipython",
    "version": 3
   },
   "file_extension": ".py",
   "mimetype": "text/x-python",
   "name": "python",
   "nbconvert_exporter": "python",
   "pygments_lexer": "ipython3",
   "version": "3.7.4"
  }
 },
 "nbformat": 4,
 "nbformat_minor": 2
}
