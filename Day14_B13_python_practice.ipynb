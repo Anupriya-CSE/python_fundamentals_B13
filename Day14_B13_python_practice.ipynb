{
 "cells": [
  {
   "cell_type": "markdown",
   "metadata": {},
   "source": [
    "### Super class and sub class"
   ]
  },
  {
   "cell_type": "code",
   "execution_count": 25,
   "metadata": {},
   "outputs": [],
   "source": [
    "class shape:\n",
    "    def find_area(self):\n",
    "        \"\"\"Function to calculate the area of shape\"\"\"\n",
    "        self.side = int(input(\"Please input the side dimension: \"))\n",
    "        self.area = self.side**2\n",
    "        \n",
    "    def display_area(self):\n",
    "        \"\"\"Function to dispaly the calculated area\"\"\"\n",
    "        print(f\"Calculated area for of {type(self)} with the given dimension: {self.area}\")\n",
    "    "
   ]
  },
  {
   "cell_type": "code",
   "execution_count": 13,
   "metadata": {},
   "outputs": [],
   "source": [
    "class square(shape):\n",
    "    pass"
   ]
  },
  {
   "cell_type": "code",
   "execution_count": 22,
   "metadata": {},
   "outputs": [],
   "source": [
    "class rectangle(shape):\n",
    "    def find_area(self):\n",
    "        \"\"\"Over riding the Parent class function to calculate the area of rectangle\"\"\"\n",
    "        self.length = int(input(\"Please input the length: \"))\n",
    "        self.breadth = int(input(\"Please input the breadth: \"))\n",
    "        self.area = self.length*self.breadth"
   ]
  },
  {
   "cell_type": "code",
   "execution_count": 27,
   "metadata": {},
   "outputs": [
    {
     "name": "stdout",
     "output_type": "stream",
     "text": [
      "Please input the side dimension: 25\n"
     ]
    }
   ],
   "source": [
    "## Object for super class shape\n",
    "\n",
    "shape_obj = shape()\n",
    "shape_obj.find_area()"
   ]
  },
  {
   "cell_type": "code",
   "execution_count": 28,
   "metadata": {},
   "outputs": [
    {
     "name": "stdout",
     "output_type": "stream",
     "text": [
      "Calculated area for of <class '__main__.shape'> with the given dimension: 625\n"
     ]
    }
   ],
   "source": [
    "shape_obj.display_area()"
   ]
  },
  {
   "cell_type": "code",
   "execution_count": null,
   "metadata": {},
   "outputs": [],
   "source": []
  },
  {
   "cell_type": "code",
   "execution_count": 26,
   "metadata": {},
   "outputs": [
    {
     "name": "stdout",
     "output_type": "stream",
     "text": [
      "Please input the side dimension: 10\n"
     ]
    },
    {
     "data": {
      "text/plain": [
       "<__main__.square at 0x1e033fa0bc8>"
      ]
     },
     "metadata": {},
     "output_type": "display_data"
    }
   ],
   "source": [
    "## Object for sub class square\n",
    "\n",
    "square_obj = square()\n",
    "square_obj.find_area()"
   ]
  },
  {
   "cell_type": "code",
   "execution_count": 18,
   "metadata": {},
   "outputs": [
    {
     "name": "stdout",
     "output_type": "stream",
     "text": [
      "Calculated area for of <class '__main__.square'> with the given dimension: 100\n"
     ]
    }
   ],
   "source": [
    "square_obj.display_area()"
   ]
  },
  {
   "cell_type": "code",
   "execution_count": null,
   "metadata": {},
   "outputs": [],
   "source": []
  },
  {
   "cell_type": "code",
   "execution_count": 23,
   "metadata": {},
   "outputs": [
    {
     "name": "stdout",
     "output_type": "stream",
     "text": [
      "Please input the length: 20\n",
      "Please input the breadth: 30\n"
     ]
    }
   ],
   "source": [
    "## Object for sub class rectangle\n",
    "\n",
    "rectangle_obj = rectangle()\n",
    "rectangle_obj.find_area()"
   ]
  },
  {
   "cell_type": "code",
   "execution_count": 24,
   "metadata": {},
   "outputs": [
    {
     "name": "stdout",
     "output_type": "stream",
     "text": [
      "Calculated area for of <class '__main__.rectangle'> with the given dimension: 600\n"
     ]
    }
   ],
   "source": [
    "rectangle_obj.display_area()"
   ]
  },
  {
   "cell_type": "code",
   "execution_count": null,
   "metadata": {},
   "outputs": [],
   "source": []
  },
  {
   "cell_type": "code",
   "execution_count": 31,
   "metadata": {},
   "outputs": [],
   "source": [
    "# multiple inheritance\n",
    "\n",
    "class base_1:\n",
    "    var_base1 = \"I am in base 1\"\n",
    "    \n",
    "class base_2:\n",
    "    var_base2 = \"I am in base 2\"\n",
    "    \n",
    "class sub(base_1,base_2):\n",
    "    var_sub = \"I am in sub\"\n",
    "    \n",
    "    def display_var(self):\n",
    "        \"\"\"Function to display variables of all classes\"\"\"\n",
    "        print(f\"{self.var_base1}\\t\\t\\t{self.var_base2}\\n\\t\\t{self.var_sub}\")"
   ]
  },
  {
   "cell_type": "code",
   "execution_count": 33,
   "metadata": {},
   "outputs": [
    {
     "name": "stdout",
     "output_type": "stream",
     "text": [
      "I am in base 1\t\t\tI am in base 2\n",
      "\t\tI am in sub\n"
     ]
    }
   ],
   "source": [
    "sub_obj = sub()\n",
    "sub_obj.display_var()"
   ]
  },
  {
   "cell_type": "code",
   "execution_count": null,
   "metadata": {},
   "outputs": [],
   "source": []
  }
 ],
 "metadata": {
  "kernelspec": {
   "display_name": "Python 3",
   "language": "python",
   "name": "python3"
  },
  "language_info": {
   "codemirror_mode": {
    "name": "ipython",
    "version": 3
   },
   "file_extension": ".py",
   "mimetype": "text/x-python",
   "name": "python",
   "nbconvert_exporter": "python",
   "pygments_lexer": "ipython3",
   "version": "3.7.4"
  }
 },
 "nbformat": 4,
 "nbformat_minor": 2
}
