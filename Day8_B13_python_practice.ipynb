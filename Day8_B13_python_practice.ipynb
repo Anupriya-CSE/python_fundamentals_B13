{
 "cells": [
  {
   "cell_type": "markdown",
   "metadata": {},
   "source": [
    "### Introduction to tuple data type"
   ]
  },
  {
   "cell_type": "code",
   "execution_count": 2,
   "metadata": {},
   "outputs": [
    {
     "name": "stdout",
     "output_type": "stream",
     "text": [
      "('female', 'CSE')\n"
     ]
    }
   ],
   "source": [
    "# () ---> used to define the tupel data type variable\n",
    "\n",
    "anu = ('female','CSE')\n",
    "\n",
    "print(anu)"
   ]
  },
  {
   "cell_type": "code",
   "execution_count": 3,
   "metadata": {
    "scrolled": true
   },
   "outputs": [
    {
     "ename": "TypeError",
     "evalue": "'tuple' object does not support item assignment",
     "output_type": "error",
     "traceback": [
      "\u001b[1;31m---------------------------------------------------------------------------\u001b[0m",
      "\u001b[1;31mTypeError\u001b[0m                                 Traceback (most recent call last)",
      "\u001b[1;32m<ipython-input-3-0421015a5e32>\u001b[0m in \u001b[0;36m<module>\u001b[1;34m\u001b[0m\n\u001b[0;32m      1\u001b[0m \u001b[1;31m# tuple is immutable ---> cannot be changed once it is created\u001b[0m\u001b[1;33m\u001b[0m\u001b[1;33m\u001b[0m\u001b[1;33m\u001b[0m\u001b[0m\n\u001b[0;32m      2\u001b[0m \u001b[1;33m\u001b[0m\u001b[0m\n\u001b[1;32m----> 3\u001b[1;33m \u001b[0manu\u001b[0m\u001b[1;33m[\u001b[0m\u001b[1;36m0\u001b[0m\u001b[1;33m]\u001b[0m \u001b[1;33m=\u001b[0m \u001b[1;34m'male'\u001b[0m\u001b[1;33m\u001b[0m\u001b[1;33m\u001b[0m\u001b[0m\n\u001b[0m",
      "\u001b[1;31mTypeError\u001b[0m: 'tuple' object does not support item assignment"
     ]
    }
   ],
   "source": [
    "# tuple is immutable ---> cannot be changed once it is created\n",
    "\n",
    "anu[0] = 'male'"
   ]
  },
  {
   "cell_type": "code",
   "execution_count": 4,
   "metadata": {},
   "outputs": [
    {
     "name": "stdout",
     "output_type": "stream",
     "text": [
      "('female', 'Software')\n"
     ]
    }
   ],
   "source": [
    "# tuple is immutable, so we cannot change it, \n",
    "# but we can able to recreate the variable again, \n",
    "# but cant overwrite or modify\n",
    "\n",
    "anu = ('female','Software')\n",
    "print(anu)"
   ]
  },
  {
   "cell_type": "markdown",
   "metadata": {},
   "source": []
  },
  {
   "cell_type": "markdown",
   "metadata": {},
   "source": [
    "### Introduction to dictionary data type"
   ]
  },
  {
   "cell_type": "code",
   "execution_count": 5,
   "metadata": {},
   "outputs": [
    {
     "name": "stdout",
     "output_type": "stream",
     "text": [
      "{'name': 'anu', 'gender': 'female', 'location': 'chennai'}\n"
     ]
    }
   ],
   "source": [
    "# {} ---> used to define the tuple data type variable\n",
    "\n",
    "student1 = {'name':'anu','gender':'female','location':'chennai'}\n",
    "\n",
    "print(student1)"
   ]
  },
  {
   "cell_type": "code",
   "execution_count": 9,
   "metadata": {},
   "outputs": [
    {
     "name": "stdout",
     "output_type": "stream",
     "text": [
      "Student 1 Details:\n",
      "\tName: Anu\n",
      "\tGender: Female\n",
      "\tLocation: Chennai\n"
     ]
    }
   ],
   "source": [
    "# dicionary is a key value pair data type, \n",
    "# in order to access the value, we can use the key \n",
    "\n",
    "print(f\"Student 1 Details:\\n\\tName: {student1['name'].title()}\\n\\tGender: {student1['gender'].title()}\\n\\tLocation: {student1['location'].title()}\")"
   ]
  },
  {
   "cell_type": "markdown",
   "metadata": {},
   "source": []
  },
  {
   "cell_type": "markdown",
   "metadata": {},
   "source": [
    "### Simple exercise to print set of student data using list, for, dictionary, if else and string methods"
   ]
  },
  {
   "cell_type": "code",
   "execution_count": 16,
   "metadata": {
    "scrolled": true
   },
   "outputs": [
    {
     "name": "stdout",
     "output_type": "stream",
     "text": [
      "Student 0 Details:\n",
      "\tName: Anu\n",
      "\tGender: Female\n",
      "\tLocation: Chennai\n",
      "Student 1 Details:\n",
      "\tName: Ram\n",
      "\tGender: Male\n",
      "\tLocation: Tamilnadu\n",
      "Student 2 Details:\n",
      "\tName: Latha\n",
      "\tGender: Female\n",
      "\tLocation: India\n"
     ]
    }
   ],
   "source": [
    "student2 = {'name':'ram','gender':'male','location':'tamilnadu'}\n",
    "student3 = {'name':'latha','gender':'female','location':'india'}\n",
    "Student_list = [student1,student2,student3]\n",
    "count = len(Student_list)\n",
    "i = 0\n",
    "for student in Student_list:\n",
    "    if count>=0:\n",
    "        print(f\"Student {i} Details:\\n\\tName: {student['name'].title()}\\n\\tGender: {student['gender'].title()}\\n\\tLocation: {student['location'].title()}\")\n",
    "    else:\n",
    "        break\n",
    "    i = i+1"
   ]
  },
  {
   "cell_type": "markdown",
   "metadata": {},
   "source": []
  }
 ],
 "metadata": {
  "kernelspec": {
   "display_name": "Python 3",
   "language": "python",
   "name": "python3"
  },
  "language_info": {
   "codemirror_mode": {
    "name": "ipython",
    "version": 3
   },
   "file_extension": ".py",
   "mimetype": "text/x-python",
   "name": "python",
   "nbconvert_exporter": "python",
   "pygments_lexer": "ipython3",
   "version": "3.7.4"
  }
 },
 "nbformat": 4,
 "nbformat_minor": 2
}
