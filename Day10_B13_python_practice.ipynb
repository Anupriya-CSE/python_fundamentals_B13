{
 "cells": [
  {
   "cell_type": "markdown",
   "metadata": {},
   "source": [
    "### using 'for loop' for printing dictionary variable"
   ]
  },
  {
   "cell_type": "code",
   "execution_count": 2,
   "metadata": {},
   "outputs": [],
   "source": [
    "service_mnc_slogan = {'TCS':'experience certainty',\n",
    "                      'Infosys':'powered by Intellect, Driven by Values',\n",
    "                      'CTS':'passion for building stronger businesses',\n",
    "                      'Wipro':'applying thoughts'\n",
    "                     }"
   ]
  },
  {
   "cell_type": "code",
   "execution_count": 3,
   "metadata": {},
   "outputs": [
    {
     "name": "stdout",
     "output_type": "stream",
     "text": [
      "{'TCS': 'experience certainty', 'Infosys': 'powered by Intellect, Driven by Values', 'CTS': 'passion for building stronger businesses', 'Wipro': 'applying thoughts'}\n"
     ]
    }
   ],
   "source": [
    "# printing without using 'for loop'\n",
    "\n",
    "print(service_mnc_slogan)"
   ]
  },
  {
   "cell_type": "code",
   "execution_count": 4,
   "metadata": {},
   "outputs": [
    {
     "name": "stdout",
     "output_type": "stream",
     "text": [
      "Tagline of TCS is Experience Certainty\n",
      "Tagline of Infosys is Powered By Intellect, Driven By Values\n",
      "Tagline of CTS is Passion For Building Stronger Businesses\n",
      "Tagline of Wipro is Applying Thoughts\n"
     ]
    }
   ],
   "source": [
    "# printing key and value using 'for loop'\n",
    "\n",
    "for key,value in service_mnc_slogan.items():  #items() method used to get the data for one pair\n",
    "    print(f\"Tagline of {key} is {value.title()}\")"
   ]
  },
  {
   "cell_type": "code",
   "execution_count": 7,
   "metadata": {},
   "outputs": [
    {
     "name": "stdout",
     "output_type": "stream",
     "text": [
      "Company names used in my dictionary variable are as follows: \n",
      "TCS\n",
      "Infosys\n",
      "CTS\n",
      "Wipro\n"
     ]
    }
   ],
   "source": [
    "# printing only the key using 'for loop'\n",
    "\n",
    "print(\"Company names used in my dictionary variable are as follows: \")\n",
    "for key,value in service_mnc_slogan.items():\n",
    "    print(key)"
   ]
  },
  {
   "cell_type": "code",
   "execution_count": 9,
   "metadata": {
    "scrolled": true
   },
   "outputs": [
    {
     "name": "stdout",
     "output_type": "stream",
     "text": [
      "Slogan of companies listed in my dictionary variable are as follows: \n",
      "Experience Certainty\n",
      "Powered By Intellect, Driven By Values\n",
      "Passion For Building Stronger Businesses\n",
      "Applying Thoughts\n"
     ]
    }
   ],
   "source": [
    "# printing only the value using 'for loop'\n",
    "\n",
    "print(\"Slogan of companies listed in my dictionary variable are as follows: \")\n",
    "for key,value in service_mnc_slogan.items():\n",
    "    print(value.title())"
   ]
  },
  {
   "cell_type": "markdown",
   "metadata": {},
   "source": []
  },
  {
   "cell_type": "markdown",
   "metadata": {},
   "source": [
    "#### Printing the dictionary pair in a particular order"
   ]
  },
  {
   "cell_type": "code",
   "execution_count": 12,
   "metadata": {},
   "outputs": [
    {
     "name": "stdout",
     "output_type": "stream",
     "text": [
      "Printing the dictionary variable before ordering:\n",
      "\tCompany 1 name: TCS\n",
      "\tCompany 1 slogan: Experience Certainty\n",
      "\n",
      "\tCompany 2 name: Infosys\n",
      "\tCompany 2 slogan: Powered By Intellect, Driven By Values\n",
      "\n",
      "\tCompany 3 name: CTS\n",
      "\tCompany 3 slogan: Passion For Building Stronger Businesses\n",
      "\n",
      "\tCompany 4 name: Wipro\n",
      "\tCompany 4 slogan: Applying Thoughts\n",
      "\n"
     ]
    }
   ],
   "source": [
    "#printing the dictionary variable before ordering\n",
    "\n",
    "print(\"Printing the dictionary variable before ordering:\")\n",
    "i=1\n",
    "\n",
    "for company_name,company_slogan in service_mnc_slogan.items():\n",
    "    print(f\"\\tCompany {i} name: {company_name}\\n\\tCompany {i} slogan: {company_slogan.title()}\\n\")\n",
    "    i+=1\n"
   ]
  },
  {
   "cell_type": "code",
   "execution_count": 18,
   "metadata": {},
   "outputs": [
    {
     "name": "stdout",
     "output_type": "stream",
     "text": [
      "Printing the dictionary variable after ordering:\n",
      "\tCompany 1 name: CTS\n",
      "\tCompany 1 slogan: Passion For Building Stronger Businesses\n",
      "\n",
      "\tCompany 2 name: Infosys\n",
      "\tCompany 2 slogan: Powered By Intellect, Driven By Values\n",
      "\n",
      "\tCompany 3 name: TCS\n",
      "\tCompany 3 slogan: Experience Certainty\n",
      "\n",
      "\tCompany 4 name: Wipro\n",
      "\tCompany 4 slogan: Applying Thoughts\n",
      "\n"
     ]
    }
   ],
   "source": [
    "#printing the dictionary variable after sorting the keys in alphabetical order\n",
    "\n",
    "print(\"Printing the dictionary variable after ordering:\")\n",
    "i=1\n",
    "\n",
    "for company_name,company_slogan in sorted(service_mnc_slogan.items()):\n",
    "    print(f\"\\tCompany {i} name: {company_name}\\n\\tCompany {i} slogan: {company_slogan.title()}\\n\")\n",
    "    i+=1"
   ]
  },
  {
   "cell_type": "markdown",
   "metadata": {},
   "source": []
  },
  {
   "cell_type": "markdown",
   "metadata": {},
   "source": [
    "### Introduction to while loop"
   ]
  },
  {
   "cell_type": "markdown",
   "metadata": {},
   "source": [
    "    \"\"\"\n",
    "    While loop -is used to execute a block of code\n",
    "                only if condition is satisfied before entering into the loop\n",
    "                \n",
    "    for loop -  is used to iterate through all the elements, \n",
    "                no additional conditions are checked\n",
    "    \"\"\""
   ]
  },
  {
   "cell_type": "code",
   "execution_count": 20,
   "metadata": {},
   "outputs": [
    {
     "name": "stdout",
     "output_type": "stream",
     "text": [
      "Value of count: 1, i am inside loop\n",
      "Value of count: 2, i am inside loop\n",
      "Value of count: 3, i am inside loop\n",
      "Value of count: 4, i am inside loop\n",
      "Value of count: 5, i am inside loop\n",
      "Value of count: 6, i am inside loop\n",
      "Value of count: 7, i am inside loop\n",
      "Value of count: 8, i am inside loop\n",
      "Value of count: 9, i am inside loop\n",
      "Value of count: 10, i am inside loop\n",
      "\n",
      "Value of count: 11, i am outside loop\n"
     ]
    }
   ],
   "source": [
    "# simple code to print numbers from 1 to 10 using 'while loop'\n",
    "# when loop encounters 11 the loop exists and comes out of the while block\n",
    "count = 1\n",
    "\n",
    "while count<=10:\n",
    "    print(f\"Value of count: {count}, i am inside loop\")\n",
    "    count+=1\n",
    "\n",
    "print(f\"\\nValue of count: {count}, i am outside loop\")"
   ]
  }
 ],
 "metadata": {
  "kernelspec": {
   "display_name": "Python 3",
   "language": "python",
   "name": "python3"
  },
  "language_info": {
   "codemirror_mode": {
    "name": "ipython",
    "version": 3
   },
   "file_extension": ".py",
   "mimetype": "text/x-python",
   "name": "python",
   "nbconvert_exporter": "python",
   "pygments_lexer": "ipython3",
   "version": "3.7.4"
  }
 },
 "nbformat": 4,
 "nbformat_minor": 2
}
