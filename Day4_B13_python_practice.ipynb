{
 "cells": [
  {
   "cell_type": "code",
   "execution_count": null,
   "metadata": {},
   "outputs": [],
   "source": [
    "Introduction to List data type"
   ]
  },
  {
   "cell_type": "code",
   "execution_count": 13,
   "metadata": {},
   "outputs": [
    {
     "name": "stdout",
     "output_type": "stream",
     "text": [
      "['ele1', 'ele2', 'ele3']\n"
     ]
    }
   ],
   "source": [
    "list_variable = ['ele1','ele2','ele3']    #[] --> used to define the list data type\n",
    "\n",
    "print(list_variable)                      #printing the list"
   ]
  },
  {
   "cell_type": "code",
   "execution_count": 15,
   "metadata": {},
   "outputs": [
    {
     "data": {
      "text/plain": [
       "list"
      ]
     },
     "execution_count": 15,
     "metadata": {},
     "output_type": "execute_result"
    }
   ],
   "source": [
    "#Validating/Verifying the list variable\n",
    "\n",
    "type(list_variable)"
   ]
  },
  {
   "cell_type": "code",
   "execution_count": null,
   "metadata": {},
   "outputs": [],
   "source": []
  },
  {
   "cell_type": "code",
   "execution_count": null,
   "metadata": {},
   "outputs": [],
   "source": [
    "Introduction to indexing"
   ]
  },
  {
   "cell_type": "code",
   "execution_count": 11,
   "metadata": {},
   "outputs": [
    {
     "name": "stdout",
     "output_type": "stream",
     "text": [
      "Ele2\n"
     ]
    }
   ],
   "source": [
    "#Indexing always starts from 0,1,2,3,...\n",
    "\n",
    "print(list_variable[1].title())     #accessing an element in the list using the index of that element"
   ]
  },
  {
   "cell_type": "code",
   "execution_count": 14,
   "metadata": {},
   "outputs": [
    {
     "name": "stdout",
     "output_type": "stream",
     "text": [
      "Ele3\n"
     ]
    }
   ],
   "source": [
    "#Negative indexing starts from -1,-2,-3,...\n",
    "\n",
    "print(list_variable[-1].title())    #accessing an element in the list using the negative indexing concept"
   ]
  },
  {
   "cell_type": "code",
   "execution_count": null,
   "metadata": {},
   "outputs": [],
   "source": []
  },
  {
   "cell_type": "code",
   "execution_count": null,
   "metadata": {},
   "outputs": [],
   "source": [
    "Manipulating the list (inserting, appending, modifying)"
   ]
  },
  {
   "cell_type": "code",
   "execution_count": 16,
   "metadata": {},
   "outputs": [
    {
     "name": "stdout",
     "output_type": "stream",
     "text": [
      "List elements before changing: ['ele1', 'ele2', 'ele3']\n",
      "List elements after changing: ['ele1', 'ele2', 'changed']\n"
     ]
    }
   ],
   "source": [
    "#Changing the value of an index in the list\n",
    "\n",
    "print(f\"List elements before changing: {list_variable}\")\n",
    "\n",
    "list_variable[2] = 'changed'   #changing value of index 2 to changed\n",
    "\n",
    "print(f\"List elements after changing: {list_variable}\")"
   ]
  },
  {
   "cell_type": "code",
   "execution_count": 17,
   "metadata": {},
   "outputs": [
    {
     "name": "stdout",
     "output_type": "stream",
     "text": [
      "List elements before adding element new: ['ele1', 'ele2', 'changed']\n",
      "List elements after adding element new: ['ele1', 'ele2', 'changed', 'new']\n"
     ]
    }
   ],
   "source": [
    "#Adding new elements to the end of the list\n",
    "\n",
    "print(f\"List elements before adding element new: {list_variable}\")\n",
    "\n",
    "list_variable.append('new')   #adding an element new to the list\n",
    "\n",
    "print(f\"List elements after adding element new: {list_variable}\")"
   ]
  },
  {
   "cell_type": "code",
   "execution_count": 18,
   "metadata": {},
   "outputs": [
    {
     "name": "stdout",
     "output_type": "stream",
     "text": [
      "List elements before adding element middle: ['ele1', 'ele2', 'changed', 'new']\n",
      "List elements after adding element middle: ['ele1', 'ele2', 'middle', 'changed', 'new']\n"
     ]
    }
   ],
   "source": [
    "#Adding new elements in the middle of the list\n",
    "\n",
    "print(f\"List elements before adding element middle: {list_variable}\")\n",
    "\n",
    "list_variable.insert(2,'middle')   #adding an element middle to the list\n",
    "\n",
    "print(f\"List elements after adding element middle: {list_variable}\")"
   ]
  },
  {
   "cell_type": "code",
   "execution_count": null,
   "metadata": {},
   "outputs": [],
   "source": []
  }
 ],
 "metadata": {
  "kernelspec": {
   "display_name": "Python 3",
   "language": "python",
   "name": "python3"
  },
  "language_info": {
   "codemirror_mode": {
    "name": "ipython",
    "version": 3
   },
   "file_extension": ".py",
   "mimetype": "text/x-python",
   "name": "python",
   "nbconvert_exporter": "python",
   "pygments_lexer": "ipython3",
   "version": "3.7.4"
  }
 },
 "nbformat": 4,
 "nbformat_minor": 2
}
