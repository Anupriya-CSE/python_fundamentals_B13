{
 "cells": [
  {
   "cell_type": "markdown",
   "metadata": {},
   "source": [
    "#### Removing elements from the List variable"
   ]
  },
  {
   "cell_type": "code",
   "execution_count": 1,
   "metadata": {
    "scrolled": true
   },
   "outputs": [
    {
     "name": "stdout",
     "output_type": "stream",
     "text": [
      "List 1 before removing an element: \n",
      "['alpha', 'beta', 'gamma', 'cupcake', 'doughnut', 'eclair']\n",
      "\n",
      "List 1 after removing an element: \n",
      "['alpha', 'beta', 'cupcake', 'doughnut', 'eclair']\n"
     ]
    }
   ],
   "source": [
    "\"\"\" First way to remove an element from the list (del command). \n",
    "    Using del list_name[element_index] command, it is possible to remove ANY ELEMENT from the list using the index value of that element\"\"\"\n",
    "\n",
    "list_1 = ['alpha','beta','gamma','cupcake','doughnut','eclair']\n",
    "\n",
    "print(f\"List 1 before deleting an element: \\n{list_1}\")  #printing the list before deleting an element\n",
    "\n",
    "del list_1[2]                                            #removing an element using del command\n",
    "\n",
    "print(f\"\\nList 1 after deleting an element: \\n{list_1}\") #printing the list after deleting an element"
   ]
  },
  {
   "cell_type": "markdown",
   "metadata": {},
   "source": []
  },
  {
   "cell_type": "code",
   "execution_count": 2,
   "metadata": {},
   "outputs": [
    {
     "name": "stdout",
     "output_type": "stream",
     "text": [
      "List 2 before popping an element: \n",
      "['jellybean', 'icecream sandwich', 'honeycomb', 'gingerbread', 'froyo', 'sandwich']\n",
      "\n",
      "List 2 after popping an element: \n",
      "['jellybean', 'icecream sandwich', 'honeycomb', 'gingerbread', 'froyo']\n"
     ]
    }
   ],
   "source": [
    "\"\"\" Second way to remove an element from the list (pop method). \n",
    "    Using list_name.pop() method, it is possible to remove the LAST ELEMENT from the list\"\"\"\n",
    "\n",
    "\n",
    "list_2 = ['jellybean','icecream sandwich','honeycomb','gingerbread','froyo','sandwich']\n",
    "\n",
    "print(f\"List 2 before popping an element: \\n{list_2}\")  #printing the list before popping an element\n",
    "\n",
    "list_2.pop()                                            #removing an element using pop method\n",
    "\n",
    "print(f\"\\nList 2 after popping an element: \\n{list_2}\") #printing the list after popping an element"
   ]
  },
  {
   "cell_type": "markdown",
   "metadata": {},
   "source": []
  },
  {
   "cell_type": "markdown",
   "metadata": {},
   "source": [
    "#### Sorting the elements in the List variable"
   ]
  },
  {
   "cell_type": "code",
   "execution_count": 4,
   "metadata": {},
   "outputs": [
    {
     "name": "stdout",
     "output_type": "stream",
     "text": [
      "List 2 before temporary sorting: \n",
      "['jellybean', 'icecream sandwich', 'honeycomb', 'gingerbread', 'froyo', 'sandwich']\n",
      "\n",
      "List 2 first time after temperary sorting: \n",
      "['froyo', 'gingerbread', 'honeycomb', 'icecream sandwich', 'jellybean', 'sandwich']\n",
      "\n",
      "List 2 second time after temporary sorting : \n",
      "['jellybean', 'icecream sandwich', 'honeycomb', 'gingerbread', 'froyo', 'sandwich']\n"
     ]
    }
   ],
   "source": [
    "\"\"\" First way to sort the elements in the list (sorted method). \n",
    "    Using sorted(list_name) method, the list can be SORTED TEMPORARILY\"\"\"\n",
    "\n",
    "\n",
    "list_2 = ['jellybean','icecream sandwich','honeycomb','gingerbread','froyo','sandwich']\n",
    "\n",
    "print(f\"List 2 before temporary sorting: \\n{list_2}\")                     #printing the list before temproary sorting\n",
    "\n",
    "print(f\"\\nList 2 first time after temperary sorting: \\n{sorted(list_2)}\") #printing the list first time after temporary sorting\n",
    "\n",
    "print(f\"\\nList 2 second time after temporary sorting : \\n{list_2}\")       #printing the list second time after temporary sorting"
   ]
  },
  {
   "cell_type": "markdown",
   "metadata": {},
   "source": []
  },
  {
   "cell_type": "code",
   "execution_count": 5,
   "metadata": {},
   "outputs": [
    {
     "name": "stdout",
     "output_type": "stream",
     "text": [
      "List 2 before temporary sorting: \n",
      "['jellybean', 'icecream sandwich', 'honeycomb', 'gingerbread', 'froyo', 'sandwich']\n",
      "\n",
      "List 2 first time after temperary sorting: \n",
      "['froyo', 'gingerbread', 'honeycomb', 'icecream sandwich', 'jellybean', 'sandwich']\n",
      "\n",
      "List 2 second time after temporary sorting : \n",
      "['froyo', 'gingerbread', 'honeycomb', 'icecream sandwich', 'jellybean', 'sandwich']\n"
     ]
    }
   ],
   "source": [
    "\"\"\" Second way to sort the elements in the list (sort method). \n",
    "    Using list_name.sort() method, the list can be SORTED PERMANENTLY\"\"\"\n",
    "\n",
    "\n",
    "list_2 = ['jellybean','icecream sandwich','honeycomb','gingerbread','froyo','sandwich']\n",
    "\n",
    "print(f\"List 2 before temporary sorting: \\n{list_2}\")               #printing the list before permanent sorting\n",
    "\n",
    "list_2.sort()                                                       #sorting the list using the sort() method\n",
    "\n",
    "print(f\"\\nList 2 first time after temperary sorting: \\n{list_2}\")   #printing the list first time after permanent sorting\n",
    "\n",
    "print(f\"\\nList 2 second time after temporary sorting : \\n{list_2}\") #printing the list second time after permanent sorting"
   ]
  },
  {
   "cell_type": "markdown",
   "metadata": {},
   "source": []
  },
  {
   "cell_type": "code",
   "execution_count": 9,
   "metadata": {},
   "outputs": [
    {
     "name": "stdout",
     "output_type": "stream",
     "text": [
      "List 1 before reverse sorting: \n",
      "['alpha', 'beta', 'cupcake', 'doughnut', 'eclair']\n",
      "\n",
      "List 1 first time after reverse sorting: \n",
      "['eclair', 'doughnut', 'cupcake', 'beta', 'alpha']\n",
      "\n",
      "List 1 second time after reverse sorting : \n",
      "['eclair', 'doughnut', 'cupcake', 'beta', 'alpha']\n"
     ]
    }
   ],
   "source": [
    "\"\"\" Reverse sorting of the list (sort method). \n",
    "    Using list_name.sort(reverse=True) method, the list can be SORTED IN REVERSE ORDER. \n",
    "    Also it is PERMANENT SORTING\"\"\"\n",
    "\n",
    "\n",
    "list_1 = ['alpha','beta','cupcake','doughnut','eclair']\n",
    "\n",
    "print(f\"List 1 before reverse sorting: \\n{list_1}\")               #printing the list before permanent reverse sorting\n",
    "\n",
    "list_1.sort(reverse=True)                                         #reverse sorting using the sort(reverse=True) method\n",
    "\n",
    "print(f\"\\nList 1 first time after reverse sorting: \\n{list_1}\")   #printing the list first time after permanent reverse sorting\n",
    "\n",
    "print(f\"\\nList 1 second time after reverse sorting : \\n{list_1}\") #printing the list second time after permanent reverse sorting"
   ]
  },
  {
   "cell_type": "markdown",
   "metadata": {},
   "source": []
  }
 ],
 "metadata": {
  "kernelspec": {
   "display_name": "Python 3",
   "language": "python",
   "name": "python3"
  },
  "language_info": {
   "codemirror_mode": {
    "name": "ipython",
    "version": 3
   },
   "file_extension": ".py",
   "mimetype": "text/x-python",
   "name": "python",
   "nbconvert_exporter": "python",
   "pygments_lexer": "ipython3",
   "version": "3.7.4"
  }
 },
 "nbformat": 4,
 "nbformat_minor": 2
}
