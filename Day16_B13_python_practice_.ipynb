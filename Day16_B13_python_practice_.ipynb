{
 "cells": [
  {
   "cell_type": "markdown",
   "metadata": {},
   "source": [
    "### Introduction to import classes"
   ]
  },
  {
   "cell_type": "code",
   "execution_count": 1,
   "metadata": {},
   "outputs": [],
   "source": [
    "import Day13_Class_Test_code as test_object"
   ]
  },
  {
   "cell_type": "code",
   "execution_count": 3,
   "metadata": {},
   "outputs": [
    {
     "name": "stdout",
     "output_type": "stream",
     "text": [
      "Enter Employee ID: 12345\n",
      "Enter your name: Anu\n",
      "Enter your location: Chennai\n"
     ]
    }
   ],
   "source": [
    "emp_obj = test_object.Employee()\n",
    "\n",
    "emp_obj.get_employee_details()"
   ]
  },
  {
   "cell_type": "code",
   "execution_count": 4,
   "metadata": {},
   "outputs": [
    {
     "name": "stdout",
     "output_type": "stream",
     "text": [
      "Employee Details\n",
      "\tID\t\t: 12345\n",
      "\tName\t\t: Anu\n",
      "\tLocation\t: Chennai\n"
     ]
    }
   ],
   "source": [
    "emp_obj.display_employee_details()"
   ]
  },
  {
   "cell_type": "code",
   "execution_count": 5,
   "metadata": {},
   "outputs": [
    {
     "name": "stdout",
     "output_type": "stream",
     "text": [
      "Thank you Anu for using our self help services.\n"
     ]
    }
   ],
   "source": [
    "emp_obj.greet_employee()"
   ]
  },
  {
   "cell_type": "code",
   "execution_count": null,
   "metadata": {},
   "outputs": [],
   "source": []
  },
  {
   "cell_type": "markdown",
   "metadata": {},
   "source": [
    "### Introduction to Exceptional Handling"
   ]
  },
  {
   "cell_type": "code",
   "execution_count": 8,
   "metadata": {},
   "outputs": [],
   "source": [
    "class arith:\n",
    "    \"\"\"class for performing arithmetic operations\"\"\"\n",
    "    \n",
    "    def get_input(self):\n",
    "        \"\"\"Function to get input from the user\"\"\"\n",
    "        self.a = int(input(\"Please enter value for a: \"))\n",
    "        self.b = int(input(\"Please enter value for b: \"))\n",
    "        \n",
    "    def add(self):\n",
    "        \"\"\"Function to calculate addition of the two numbers entered by the user\"\"\"\n",
    "        self.sum = self.a + self.b\n",
    "        return self.sum\n",
    "    \n",
    "    def sub(self):\n",
    "        \"\"\"Function to calculate subtraction of the two numbers entered by the user\"\"\"\n",
    "        self.minus = self.a - self.b\n",
    "        return self.minus\n",
    "    \n",
    "    def mul(self):\n",
    "        \"\"\"Function to calculate multiplication of the two numbers entered by the user\"\"\"\n",
    "        self.mul = self.a * self.b\n",
    "        return self.mul\n",
    "    \n",
    "    def div(self):\n",
    "        \"\"\"Function to calculate sum of the two numbers entered by the user\"\"\"\n",
    "        #writing the division code in try block to avoid zero division error\n",
    "        try:\n",
    "            self.quotient = self.a / self.b\n",
    "            return self.quotient\n",
    "        \n",
    "        except ZeroDivisionError:\n",
    "            print(\"Please check the value for b, we cannot divide a number by zero\")\n",
    "    "
   ]
  },
  {
   "cell_type": "code",
   "execution_count": 9,
   "metadata": {},
   "outputs": [],
   "source": [
    "new_object = arith()"
   ]
  },
  {
   "cell_type": "code",
   "execution_count": 11,
   "metadata": {},
   "outputs": [
    {
     "name": "stdout",
     "output_type": "stream",
     "text": [
      "Please enter value for a: 10\n",
      "Please enter value for b: 0\n"
     ]
    }
   ],
   "source": [
    "new_object.get_input()"
   ]
  },
  {
   "cell_type": "code",
   "execution_count": 12,
   "metadata": {},
   "outputs": [
    {
     "name": "stdout",
     "output_type": "stream",
     "text": [
      "Sum of given numbers: 10\n",
      "Difference of given numbers: 10\n",
      "Product of given numbers: 0\n",
      "Please check the value for b, we cannot divide a number by zero\n",
      "Quotient of given numbers: None\n"
     ]
    }
   ],
   "source": [
    "print(f\"Sum of given numbers: {new_object.add()}\")\n",
    "print(f\"Difference of given numbers: {new_object.sub()}\")\n",
    "print(f\"Product of given numbers: {new_object.mul()}\")\n",
    "print(f\"Quotient of given numbers: {new_object.div()}\")"
   ]
  },
  {
   "cell_type": "code",
   "execution_count": null,
   "metadata": {},
   "outputs": [],
   "source": []
  },
  {
   "cell_type": "code",
   "execution_count": 13,
   "metadata": {},
   "outputs": [],
   "source": [
    "def read_data():\n",
    "    \"\"\"Function to reda the data from the givne file name\"\"\"\n",
    "    filename = input(\"Please enter the file name to read the data with proper extension (.txt): \")\n",
    "    \n",
    "    try:\n",
    "        with open(filename) as file_object:\n",
    "            data = file_object.read()\n",
    "            print(f\"Data inside the file:\\n {data}\")\n",
    "    \n",
    "    except FileNotFoundError:\n",
    "        print(\"Please check the file name. There is either error in entered filename / no such file exists\")"
   ]
  },
  {
   "cell_type": "code",
   "execution_count": 14,
   "metadata": {},
   "outputs": [
    {
     "name": "stdout",
     "output_type": "stream",
     "text": [
      "Please enter the file name to read the data with proper extension (.txt): abc.txt\n",
      "Please check the file name. There is either error in entered filename / no such file exists\n"
     ]
    }
   ],
   "source": [
    "read_data()"
   ]
  },
  {
   "cell_type": "code",
   "execution_count": null,
   "metadata": {},
   "outputs": [],
   "source": []
  }
 ],
 "metadata": {
  "kernelspec": {
   "display_name": "Python 3",
   "language": "python",
   "name": "python3"
  },
  "language_info": {
   "codemirror_mode": {
    "name": "ipython",
    "version": 3
   },
   "file_extension": ".py",
   "mimetype": "text/x-python",
   "name": "python",
   "nbconvert_exporter": "python",
   "pygments_lexer": "ipython3",
   "version": "3.7.4"
  }
 },
 "nbformat": 4,
 "nbformat_minor": 2
}
