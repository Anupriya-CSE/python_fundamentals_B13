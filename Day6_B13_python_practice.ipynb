{
 "cells": [
  {
   "cell_type": "markdown",
   "metadata": {},
   "source": [
    "#### Finding the length of the list"
   ]
  },
  {
   "cell_type": "code",
   "execution_count": 1,
   "metadata": {},
   "outputs": [
    {
     "name": "stdout",
     "output_type": "stream",
     "text": [
      "9\n"
     ]
    }
   ],
   "source": [
    "list_variable = ['a','b','c','d','e','f','g','h','i']    #counted manually -> list has 9 variables\n",
    "print(len(list_variable))                                #counting programmatically -> using len() method"
   ]
  },
  {
   "cell_type": "markdown",
   "metadata": {},
   "source": []
  },
  {
   "cell_type": "markdown",
   "metadata": {},
   "source": [
    "### Introduction to for loop"
   ]
  },
  {
   "cell_type": "code",
   "execution_count": 2,
   "metadata": {},
   "outputs": [
    {
     "name": "stdout",
     "output_type": "stream",
     "text": [
      "['apple', 'orange', 'pomegranate', 'banana', 'jackfruit', 'mango']\n"
     ]
    }
   ],
   "source": [
    "\"\"\"printing list without for loop \n",
    "   below print statement will print all the elements together in one line\"\"\"\n",
    "\n",
    "fruits = ['apple','orange','pomegranate','banana','jackfruit','mango']\n",
    "\n",
    "print(fruits)                  "
   ]
  },
  {
   "cell_type": "markdown",
   "metadata": {},
   "source": []
  },
  {
   "cell_type": "code",
   "execution_count": 3,
   "metadata": {
    "scrolled": true
   },
   "outputs": [
    {
     "name": "stdout",
     "output_type": "stream",
     "text": [
      "apple is a tasty fruit\n",
      "orange is a tasty fruit\n",
      "pomegranate is a tasty fruit\n"
     ]
    }
   ],
   "source": [
    "\"\"\"if we need to print the element one by one, \n",
    "   indexing needs to be used\"\"\"\n",
    "\n",
    "fruits = ['apple','orange','pomegranate','banana','jackfruit','mango']\n",
    "\n",
    "print(f\"{fruits[0]} is a tasty fruit\")\n",
    "print(f\"{fruits[1]} is a tasty fruit\")       \n",
    "print(f\"{fruits[2]} is a tasty fruit\") "
   ]
  },
  {
   "cell_type": "markdown",
   "metadata": {},
   "source": []
  },
  {
   "cell_type": "markdown",
   "metadata": {},
   "source": [
    "    if we have more elements in the list then \n",
    "      using the indexing concept we need to write multiple lines of code for performing the same action \n",
    "      which is more time consuming and will increase the lines of code\n",
    "    \n",
    "    In order to write the code in optimized way, we go for FOR loop"
   ]
  },
  {
   "cell_type": "markdown",
   "metadata": {},
   "source": [
    "#### Terminologies for understanding the \"for\" loop:\n",
    "    main variable        -> variable which contatins the actual list of elements\n",
    "    temp variable        -> variable which used to store the actual element for each iteration in the loop\n",
    "    creating indentation -> as for loop is a block and it can contain multiple lines of code underlying it, \n",
    "                            inorder to mention the system that all the statements below the for statement are to be looped, \n",
    "                            indentation is used"
   ]
  },
  {
   "cell_type": "code",
   "execution_count": 6,
   "metadata": {},
   "outputs": [
    {
     "name": "stdout",
     "output_type": "stream",
     "text": [
      "Normal for loop:\n",
      "apple\n",
      "orange\n",
      "pomegranate\n",
      "banana\n",
      "jackfruit\n",
      "mango\n",
      "\n",
      "Enhanced for loop:\n",
      "\tapple is a tasty fruit!!!\n",
      "\torange is a tasty fruit!!!\n",
      "\tpomegranate is a tasty fruit!!!\n",
      "\tbanana is a tasty fruit!!!\n",
      "\tjackfruit is a tasty fruit!!!\n",
      "\tmango is a tasty fruit!!!\n"
     ]
    }
   ],
   "source": [
    "\"\"\"In the below example,\n",
    "    fruits -> main variable\n",
    "    fruit  -> temp variable\n",
    "    :      -> used for creating indentaion\"\"\"\n",
    "\n",
    "fruits = ['apple','orange','pomegranate','banana','jackfruit','mango']\n",
    "\n",
    "print(\"Normal for loop:\")\n",
    "for fruit in fruits:\n",
    "    print(fruit)\n",
    "\n",
    "print(\"\\nEnhanced for loop:\")\n",
    "for fruit in fruits:\n",
    "    print(f\"\\t{fruit} is a tasty fruit!!!\")"
   ]
  },
  {
   "cell_type": "markdown",
   "metadata": {},
   "source": [
    "#####  Making Numerical list using range():\n",
    "    syntax:\n",
    "       range(start_value, stop_value)\n",
    "       where,\n",
    "         start_value -> from which number the printing should start,\n",
    "                           this value included in the printing as it is the starting value\n",
    "         stop_value  -> upto which number the printing should continue (this value is not printed, \n",
    "                            this is just a stop value to stop the loop\n",
    "\n",
    "    Example:\n",
    "        for temp_variable in range(start_value, stop_value):\n",
    "          print(temp_variable)"
   ]
  },
  {
   "cell_type": "code",
   "execution_count": 7,
   "metadata": {},
   "outputs": [
    {
     "name": "stdout",
     "output_type": "stream",
     "text": [
      "50\n",
      "51\n",
      "52\n",
      "53\n",
      "54\n",
      "55\n",
      "56\n",
      "57\n",
      "58\n",
      "59\n"
     ]
    }
   ],
   "source": [
    "#Code for printing numbers inbetween 50-60 using for loop and range():\n",
    "\n",
    "for num in range(50,60):\n",
    "    print(num)"
   ]
  },
  {
   "cell_type": "code",
   "execution_count": null,
   "metadata": {},
   "outputs": [],
   "source": []
  },
  {
   "cell_type": "code",
   "execution_count": 10,
   "metadata": {},
   "outputs": [
    {
     "name": "stdout",
     "output_type": "stream",
     "text": [
      "[100, 101, 102, 103, 104, 105, 106, 107, 108, 109, 110, 111, 112, 113, 114, 115, 116, 117, 118, 119, 120, 121, 122, 123, 124, 125, 126, 127, 128, 129, 130, 131, 132, 133, 134, 135, 136, 137, 138, 139, 140, 141, 142, 143, 144, 145, 146, 147, 148, 149, 150, 151, 152, 153, 154, 155, 156, 157, 158, 159, 160, 161, 162, 163, 164, 165, 166, 167, 168, 169, 170, 171, 172, 173, 174, 175, 176, 177, 178, 179, 180, 181, 182, 183, 184, 185, 186, 187, 188, 189, 190, 191, 192, 193, 194, 195, 196, 197, 198, 199]\n",
      "\n",
      "list_name is a <class 'list'> data type variable\n"
     ]
    }
   ],
   "source": [
    "#storing numberical list in a variable using list() and range():\n",
    "# range() -> used for creating the nemerical list\n",
    "# list()  -> used for converting that created list to list data type\n",
    "\n",
    "list_name = list(range(100,200))\n",
    "print(list_name)\n",
    "print(f\"\\nlist_name is a {type(list_name)} data type variable\")"
   ]
  },
  {
   "cell_type": "code",
   "execution_count": null,
   "metadata": {},
   "outputs": [],
   "source": []
  },
  {
   "cell_type": "code",
   "execution_count": 11,
   "metadata": {},
   "outputs": [
    {
     "name": "stdout",
     "output_type": "stream",
     "text": [
      "List of even numbers between 0 - 50:\n",
      " [2, 4, 6, 8, 10, 12, 14, 16, 18, 20, 22, 24, 26, 28, 30, 32, 34, 36, 38, 40, 42, 44, 46, 48]\n"
     ]
    }
   ],
   "source": [
    "#finding even numbers between 0-50 using range():\n",
    "\n",
    "even_number_list = list(range(2,50,2)) #third parameter is the step count (increment variable, same as java)\n",
    "print(f\"List of even numbers between 0 - 50:\\n {even_number_list}\")"
   ]
  },
  {
   "cell_type": "markdown",
   "metadata": {},
   "source": []
  },
  {
   "cell_type": "markdown",
   "metadata": {},
   "source": [
    "#### Finding min, max and sum of the list"
   ]
  },
  {
   "cell_type": "code",
   "execution_count": 13,
   "metadata": {
    "scrolled": true
   },
   "outputs": [
    {
     "name": "stdout",
     "output_type": "stream",
     "text": [
      "Least value between 100 - 200: 100\n",
      "Higher value between 100 - 200: 200\n",
      "Sum of numbers from 100 - 200: 15150\n"
     ]
    }
   ],
   "source": [
    "list_1 = list(range(100,201))\n",
    "print(f\"Least value between 100 - 200: {min(list_1)}\")          # min -> for finding least value in the list\n",
    "print(f\"Higher value between 100 - 200: {max(list_1)}\")         # max -> for finding higher value in the list\n",
    "print(f\"Sum of numbers from 100 - 200: {sum(list_1)}\")          # sum -> for summing all the elements in the list\n"
   ]
  },
  {
   "cell_type": "markdown",
   "metadata": {},
   "source": []
  },
  {
   "cell_type": "markdown",
   "metadata": {},
   "source": [
    "#### Slicing the list using syntax list_variable[start_value:stop_value]"
   ]
  },
  {
   "cell_type": "code",
   "execution_count": 14,
   "metadata": {},
   "outputs": [
    {
     "name": "stdout",
     "output_type": "stream",
     "text": [
      "Q1 months: ['Jan', 'Feb', 'Mar']\n",
      "Q2 months: ['Apr', 'May', 'Jun']\n",
      "Q3 months: ['Jul', 'Aug', 'Sep']\n",
      "Q4 months: ['Oct', 'Nov', 'Dec']\n"
     ]
    }
   ],
   "source": [
    "months = ['Jan','Feb','Mar','Apr','May','Jun','Jul','Aug','Sep','Oct','Nov','Dec']\n",
    "\n",
    "print(f\"Q1 months: {months[0:3]}\")\n",
    "print(f\"Q2 months: {months[3:6]}\")\n",
    "print(f\"Q3 months: {months[6:9]}\")\n",
    "print(f\"Q4 months: {months[9:12]}\")"
   ]
  },
  {
   "cell_type": "markdown",
   "metadata": {},
   "source": []
  }
 ],
 "metadata": {
  "kernelspec": {
   "display_name": "Python 3",
   "language": "python",
   "name": "python3"
  },
  "language_info": {
   "codemirror_mode": {
    "name": "ipython",
    "version": 3
   },
   "file_extension": ".py",
   "mimetype": "text/x-python",
   "name": "python",
   "nbconvert_exporter": "python",
   "pygments_lexer": "ipython3",
   "version": "3.7.4"
  }
 },
 "nbformat": 4,
 "nbformat_minor": 2
}
