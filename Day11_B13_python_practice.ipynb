{
 "cells": [
  {
   "cell_type": "markdown",
   "metadata": {},
   "source": [
    "### Introduction to Functions"
   ]
  },
  {
   "cell_type": "code",
   "execution_count": 6,
   "metadata": {},
   "outputs": [],
   "source": [
    "# defining a function using 'def' keyword\n",
    "\n",
    "from datetime import datetime\n",
    "\n",
    "def print_date_and_time():\n",
    "    \"\"\"function for printing current date and time\"\"\"\n",
    "    print(f\"Current date and time is: {datetime.now()}\")"
   ]
  },
  {
   "cell_type": "code",
   "execution_count": 7,
   "metadata": {},
   "outputs": [
    {
     "name": "stdout",
     "output_type": "stream",
     "text": [
      "Current time is: 2020-03-20 11:20:44.585342\n"
     ]
    }
   ],
   "source": [
    "# invoking the function using the function name\n",
    "\n",
    "print_date_and_time()"
   ]
  },
  {
   "cell_type": "code",
   "execution_count": null,
   "metadata": {},
   "outputs": [],
   "source": []
  },
  {
   "cell_type": "markdown",
   "metadata": {},
   "source": [
    "#### Introduction to parameters and arguments"
   ]
  },
  {
   "cell_type": "code",
   "execution_count": 14,
   "metadata": {},
   "outputs": [],
   "source": [
    "\"\"\"     in the below example,\n",
    "        parameters are num1 and num2 (in function definition)\n",
    "        arguments are 10 and 20 (in function call)\n",
    "        \"\"\"\n",
    "\n",
    "def add(num1,num2):\n",
    "    \"\"\"function to calculate the sum of two numbers\"\"\"\n",
    "    a = num1\n",
    "    b = num2\n",
    "    a = int(a)\n",
    "    b = int(b)\n",
    "    print(f\"Sum of {a} and {b} is {a+b}\")\n",
    "    "
   ]
  },
  {
   "cell_type": "code",
   "execution_count": 16,
   "metadata": {},
   "outputs": [
    {
     "name": "stdout",
     "output_type": "stream",
     "text": [
      "Sum of 10 and 20 is 30\n",
      "Sum of 20 and 10 is 30\n"
     ]
    }
   ],
   "source": [
    "add(10,20)                                 #example for Positional arguments\n",
    "add(num2=10,num1=20)                       #example for Keyword arguments"
   ]
  },
  {
   "cell_type": "code",
   "execution_count": null,
   "metadata": {},
   "outputs": [],
   "source": []
  },
  {
   "cell_type": "markdown",
   "metadata": {},
   "source": [
    "#### Introduction to Default values"
   ]
  },
  {
   "cell_type": "code",
   "execution_count": 23,
   "metadata": {},
   "outputs": [],
   "source": [
    "\"\"\"     in the below example,\n",
    "        parameters are num2 is already defined (in function definition)\n",
    "        \"\"\"\n",
    "\n",
    "def add_default(num1,num2=100):\n",
    "    \"\"\"function to calculate the sum of two numbers\"\"\"\n",
    "    a = num1\n",
    "    b = num2\n",
    "    a = int(a)\n",
    "    b = int(b)\n",
    "    print(f\"Sum of {a} and {b} is {a+b}\")\n",
    "    "
   ]
  },
  {
   "cell_type": "code",
   "execution_count": 25,
   "metadata": {},
   "outputs": [
    {
     "name": "stdout",
     "output_type": "stream",
     "text": [
      "Sum of 10 and 100 is 110\n"
     ]
    }
   ],
   "source": [
    "#example for default values, even if we dont pass the value for num2 it will take the alue from the function definition\n",
    "\n",
    "add_default(10)"
   ]
  }
 ],
 "metadata": {
  "kernelspec": {
   "display_name": "Python 3",
   "language": "python",
   "name": "python3"
  },
  "language_info": {
   "codemirror_mode": {
    "name": "ipython",
    "version": 3
   },
   "file_extension": ".py",
   "mimetype": "text/x-python",
   "name": "python",
   "nbconvert_exporter": "python",
   "pygments_lexer": "ipython3",
   "version": "3.7.4"
  }
 },
 "nbformat": 4,
 "nbformat_minor": 2
}
